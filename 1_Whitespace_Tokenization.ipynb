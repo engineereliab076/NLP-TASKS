{
  "nbformat": 4,
  "nbformat_minor": 0,
  "metadata": {
    "colab": {
      "provenance": [],
      "authorship_tag": "ABX9TyPvdSRdbKkJBt3Mn5cxlTTE",
      "include_colab_link": true
    },
    "kernelspec": {
      "name": "python3",
      "display_name": "Python 3"
    },
    "language_info": {
      "name": "python"
    }
  },
  "cells": [
    {
      "cell_type": "markdown",
      "metadata": {
        "id": "view-in-github",
        "colab_type": "text"
      },
      "source": [
        "<a href=\"https://colab.research.google.com/github/engineereliab076/NLP-TASKS/blob/main/1_Whitespace_Tokenization.ipynb\" target=\"_parent\"><img src=\"https://colab.research.google.com/assets/colab-badge.svg\" alt=\"Open In Colab\"/></a>"
      ]
    },
    {
      "cell_type": "code",
      "execution_count": 1,
      "metadata": {
        "id": "5POjE6M9MfUl"
      },
      "outputs": [],
      "source": [
        "def whitespace_tokenize(text):\n",
        "    return text.strip().split()"
      ]
    },
    {
      "cell_type": "code",
      "source": [
        "text = \"\"\"      The cat sat on the mat.\n",
        "and i didnt know what to do.\n",
        "and i gain i sobbed\n",
        "\"\"\"\n",
        "tokens = whitespace_tokenize(text)\n",
        "print(tokens)\n"
      ],
      "metadata": {
        "colab": {
          "base_uri": "https://localhost:8080/"
        },
        "id": "r2A-NaJxMuIo",
        "outputId": "c87e402d-e9be-4b60-e90f-8d79c653bb5c"
      },
      "execution_count": 4,
      "outputs": [
        {
          "output_type": "stream",
          "name": "stdout",
          "text": [
            "['The', 'cat', 'sat', 'on', 'the', 'mat.', 'and', 'i', 'didnt', 'know', 'what', 'to', 'do.', 'and', 'i', 'gain', 'i', 'sobbed']\n"
          ]
        }
      ]
    },
    {
      "cell_type": "code",
      "source": [
        "text = \"\"\"      The cat sat on the mat.\n",
        "and i didnt know what to do.\n",
        "and i gain i sobbed\n",
        "\"\"\"\n",
        "tokens = whitespace_tokenize(text)\n",
        "#print(tokens)\n",
        "print(text.strip())"
      ],
      "metadata": {
        "colab": {
          "base_uri": "https://localhost:8080/"
        },
        "id": "A5kUXV6CM9p_",
        "outputId": "2beebbc0-3516-4051-9965-8e1f498dba5a"
      },
      "execution_count": 8,
      "outputs": [
        {
          "output_type": "stream",
          "name": "stdout",
          "text": [
            "The cat sat on the mat.\n",
            "and i didnt know what to do.\n",
            "and i gain i sobbed\n"
          ]
        }
      ]
    },
    {
      "cell_type": "markdown",
      "source": [
        "strip() is used to remove leading and trailing whitespace from a string before, spliting.\n",
        "\n",
        "The whitespace-tokenize method is super fast but, it doesn't separate punctuations and doesn't lowercase, normalize and clean anything."
      ],
      "metadata": {
        "id": "XJhZvtlsOwGn"
      }
    },
    {
      "cell_type": "code",
      "source": [],
      "metadata": {
        "id": "HCbvJUK-Nqt2"
      },
      "execution_count": null,
      "outputs": []
    }
  ]
}